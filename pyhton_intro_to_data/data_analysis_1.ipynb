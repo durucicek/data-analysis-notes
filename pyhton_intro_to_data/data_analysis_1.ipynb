{
 "cells": [
  {
   "cell_type": "code",
   "execution_count": 2,
   "metadata": {},
   "outputs": [
    {
     "data": {
      "text/html": [
       "<div>\n",
       "<style scoped>\n",
       "    .dataframe tbody tr th:only-of-type {\n",
       "        vertical-align: middle;\n",
       "    }\n",
       "\n",
       "    .dataframe tbody tr th {\n",
       "        vertical-align: top;\n",
       "    }\n",
       "\n",
       "    .dataframe thead th {\n",
       "        text-align: right;\n",
       "    }\n",
       "</style>\n",
       "<table border=\"1\" class=\"dataframe\">\n",
       "  <thead>\n",
       "    <tr style=\"text-align: right;\">\n",
       "      <th></th>\n",
       "      <th>survived</th>\n",
       "      <th>pclass</th>\n",
       "      <th>sex</th>\n",
       "      <th>age</th>\n",
       "      <th>sibsp</th>\n",
       "      <th>parch</th>\n",
       "      <th>fare</th>\n",
       "      <th>embarked</th>\n",
       "      <th>class</th>\n",
       "      <th>who</th>\n",
       "      <th>adult_male</th>\n",
       "      <th>deck</th>\n",
       "      <th>embark_town</th>\n",
       "      <th>alive</th>\n",
       "      <th>alone</th>\n",
       "    </tr>\n",
       "  </thead>\n",
       "  <tbody>\n",
       "    <tr>\n",
       "      <th>0</th>\n",
       "      <td>0</td>\n",
       "      <td>3</td>\n",
       "      <td>male</td>\n",
       "      <td>22.0</td>\n",
       "      <td>1</td>\n",
       "      <td>0</td>\n",
       "      <td>7.2500</td>\n",
       "      <td>S</td>\n",
       "      <td>Third</td>\n",
       "      <td>man</td>\n",
       "      <td>True</td>\n",
       "      <td>NaN</td>\n",
       "      <td>Southampton</td>\n",
       "      <td>no</td>\n",
       "      <td>False</td>\n",
       "    </tr>\n",
       "    <tr>\n",
       "      <th>1</th>\n",
       "      <td>1</td>\n",
       "      <td>1</td>\n",
       "      <td>female</td>\n",
       "      <td>38.0</td>\n",
       "      <td>1</td>\n",
       "      <td>0</td>\n",
       "      <td>71.2833</td>\n",
       "      <td>C</td>\n",
       "      <td>First</td>\n",
       "      <td>woman</td>\n",
       "      <td>False</td>\n",
       "      <td>C</td>\n",
       "      <td>Cherbourg</td>\n",
       "      <td>yes</td>\n",
       "      <td>False</td>\n",
       "    </tr>\n",
       "    <tr>\n",
       "      <th>2</th>\n",
       "      <td>1</td>\n",
       "      <td>3</td>\n",
       "      <td>female</td>\n",
       "      <td>26.0</td>\n",
       "      <td>0</td>\n",
       "      <td>0</td>\n",
       "      <td>7.9250</td>\n",
       "      <td>S</td>\n",
       "      <td>Third</td>\n",
       "      <td>woman</td>\n",
       "      <td>False</td>\n",
       "      <td>NaN</td>\n",
       "      <td>Southampton</td>\n",
       "      <td>yes</td>\n",
       "      <td>True</td>\n",
       "    </tr>\n",
       "    <tr>\n",
       "      <th>3</th>\n",
       "      <td>1</td>\n",
       "      <td>1</td>\n",
       "      <td>female</td>\n",
       "      <td>35.0</td>\n",
       "      <td>1</td>\n",
       "      <td>0</td>\n",
       "      <td>53.1000</td>\n",
       "      <td>S</td>\n",
       "      <td>First</td>\n",
       "      <td>woman</td>\n",
       "      <td>False</td>\n",
       "      <td>C</td>\n",
       "      <td>Southampton</td>\n",
       "      <td>yes</td>\n",
       "      <td>False</td>\n",
       "    </tr>\n",
       "    <tr>\n",
       "      <th>4</th>\n",
       "      <td>0</td>\n",
       "      <td>3</td>\n",
       "      <td>male</td>\n",
       "      <td>35.0</td>\n",
       "      <td>0</td>\n",
       "      <td>0</td>\n",
       "      <td>8.0500</td>\n",
       "      <td>S</td>\n",
       "      <td>Third</td>\n",
       "      <td>man</td>\n",
       "      <td>True</td>\n",
       "      <td>NaN</td>\n",
       "      <td>Southampton</td>\n",
       "      <td>no</td>\n",
       "      <td>True</td>\n",
       "    </tr>\n",
       "  </tbody>\n",
       "</table>\n",
       "</div>"
      ],
      "text/plain": [
       "   survived  pclass     sex   age  sibsp  parch     fare embarked  class   \n",
       "0         0       3    male  22.0      1      0   7.2500        S  Third  \\\n",
       "1         1       1  female  38.0      1      0  71.2833        C  First   \n",
       "2         1       3  female  26.0      0      0   7.9250        S  Third   \n",
       "3         1       1  female  35.0      1      0  53.1000        S  First   \n",
       "4         0       3    male  35.0      0      0   8.0500        S  Third   \n",
       "\n",
       "     who  adult_male deck  embark_town alive  alone  \n",
       "0    man        True  NaN  Southampton    no  False  \n",
       "1  woman       False    C    Cherbourg   yes  False  \n",
       "2  woman       False  NaN  Southampton   yes   True  \n",
       "3  woman       False    C  Southampton   yes  False  \n",
       "4    man        True  NaN  Southampton    no   True  "
      ]
     },
     "execution_count": 2,
     "metadata": {},
     "output_type": "execute_result"
    }
   ],
   "source": [
    "import numpy as np\n",
    "import pandas as pd\n",
    "import seaborn as sns\n",
    "import matplotlib.pyplot as plt\n",
    "\n",
    "df = sns.load_dataset(\"titanic\")\n",
    "df.head()"
   ]
  },
  {
   "cell_type": "code",
   "execution_count": 87,
   "metadata": {},
   "outputs": [],
   "source": [
    "#df.shape\n",
    "#df.info()"
   ]
  },
  {
   "cell_type": "code",
   "execution_count": 9,
   "metadata": {},
   "outputs": [
    {
     "data": {
      "text/plain": [
       "sex\n",
       "male      577\n",
       "female    314\n",
       "Name: count, dtype: int64"
      ]
     },
     "execution_count": 9,
     "metadata": {},
     "output_type": "execute_result"
    }
   ],
   "source": [
    "df[\"sex\"].value_counts()"
   ]
  },
  {
   "cell_type": "code",
   "execution_count": 88,
   "metadata": {},
   "outputs": [
    {
     "name": "stdout",
     "output_type": "stream",
     "text": [
      "############## Shape ##############\n",
      "(891, 15)\n",
      "\n",
      "############## Types ##############\n",
      "survived          int64\n",
      "pclass            int64\n",
      "sex              object\n",
      "age             float64\n",
      "sibsp             int64\n",
      "parch             int64\n",
      "fare            float64\n",
      "embarked         object\n",
      "class          category\n",
      "who              object\n",
      "adult_male         bool\n",
      "deck           category\n",
      "embark_town      object\n",
      "alive            object\n",
      "alone              bool\n",
      "dtype: object\n",
      "\n",
      "############## Head ##############\n",
      "   survived  pclass     sex   age  sibsp  parch     fare embarked  class   \n",
      "0         0       3    male  22.0      1      0   7.2500        S  Third  \\\n",
      "1         1       1  female  38.0      1      0  71.2833        C  First   \n",
      "2         1       3  female  26.0      0      0   7.9250        S  Third   \n",
      "3         1       1  female  35.0      1      0  53.1000        S  First   \n",
      "4         0       3    male  35.0      0      0   8.0500        S  Third   \n",
      "\n",
      "     who  adult_male deck  embark_town alive  alone  \n",
      "0    man        True  NaN  Southampton    no  False  \n",
      "1  woman       False    C    Cherbourg   yes  False  \n",
      "2  woman       False  NaN  Southampton   yes   True  \n",
      "3  woman       False    C  Southampton   yes  False  \n",
      "4    man        True  NaN  Southampton    no   True  \n",
      "\n",
      "############## NA ##############\n",
      "<bound method NDFrame._add_numeric_operations.<locals>.sum of      survived  pclass    sex    age  sibsp  parch   fare  embarked  class   \n",
      "0       False   False  False  False  False  False  False     False  False  \\\n",
      "1       False   False  False  False  False  False  False     False  False   \n",
      "2       False   False  False  False  False  False  False     False  False   \n",
      "3       False   False  False  False  False  False  False     False  False   \n",
      "4       False   False  False  False  False  False  False     False  False   \n",
      "..        ...     ...    ...    ...    ...    ...    ...       ...    ...   \n",
      "886     False   False  False  False  False  False  False     False  False   \n",
      "887     False   False  False  False  False  False  False     False  False   \n",
      "888     False   False  False   True  False  False  False     False  False   \n",
      "889     False   False  False  False  False  False  False     False  False   \n",
      "890     False   False  False  False  False  False  False     False  False   \n",
      "\n",
      "       who  adult_male   deck  embark_town  alive  alone  \n",
      "0    False       False   True        False  False  False  \n",
      "1    False       False  False        False  False  False  \n",
      "2    False       False   True        False  False  False  \n",
      "3    False       False  False        False  False  False  \n",
      "4    False       False   True        False  False  False  \n",
      "..     ...         ...    ...          ...    ...    ...  \n",
      "886  False       False   True        False  False  False  \n",
      "887  False       False  False        False  False  False  \n",
      "888  False       False   True        False  False  False  \n",
      "889  False       False  False        False  False  False  \n",
      "890  False       False   True        False  False  False  \n",
      "\n",
      "[891 rows x 15 columns]>\n"
     ]
    }
   ],
   "source": [
    "def check_df(dataframe, head=5):\n",
    "    print(\"############## Shape ##############\")\n",
    "    print(dataframe.shape)\n",
    "    print(\"\\n############## Types ##############\")\n",
    "    print(dataframe.dtypes)\n",
    "    print(\"\\n############## Head ##############\")\n",
    "    print(dataframe.head(head))\n",
    "    print(\"\\n############## NA ##############\")\n",
    "    print(dataframe.isnull().sum)\n",
    "\n",
    "check_df(df)\n"
   ]
  },
  {
   "cell_type": "code",
   "execution_count": 44,
   "metadata": {},
   "outputs": [
    {
     "name": "stdout",
     "output_type": "stream",
     "text": [
      "<class 'pandas.core.frame.DataFrame'>\n",
      "RangeIndex: 891 entries, 0 to 890\n",
      "Data columns (total 15 columns):\n",
      " #   Column       Non-Null Count  Dtype   \n",
      "---  ------       --------------  -----   \n",
      " 0   survived     891 non-null    int64   \n",
      " 1   pclass       891 non-null    int64   \n",
      " 2   sex          891 non-null    object  \n",
      " 3   age          714 non-null    float64 \n",
      " 4   sibsp        891 non-null    int64   \n",
      " 5   parch        891 non-null    int64   \n",
      " 6   fare         891 non-null    float64 \n",
      " 7   embarked     889 non-null    object  \n",
      " 8   class        891 non-null    category\n",
      " 9   who          891 non-null    object  \n",
      " 10  adult_male   891 non-null    bool    \n",
      " 11  deck         203 non-null    category\n",
      " 12  embark_town  889 non-null    object  \n",
      " 13  alive        891 non-null    object  \n",
      " 14  alone        891 non-null    bool    \n",
      "dtypes: bool(2), category(2), float64(2), int64(4), object(5)\n",
      "memory usage: 80.7+ KB\n"
     ]
    }
   ],
   "source": [
    "df = sns.load_dataset(\"titanic\")\n",
    "df.info()"
   ]
  },
  {
   "cell_type": "code",
   "execution_count": 70,
   "metadata": {},
   "outputs": [
    {
     "data": {
      "text/plain": [
       "['sex',\n",
       " 'embarked',\n",
       " 'class',\n",
       " 'who',\n",
       " 'adult_male',\n",
       " 'deck',\n",
       " 'embark_town',\n",
       " 'alive',\n",
       " 'alone']"
      ]
     },
     "execution_count": 70,
     "metadata": {},
     "output_type": "execute_result"
    }
   ],
   "source": [
    "catg_cols = [col for col in df.columns if str(df[col].dtypes) in [\"category\", \"object\",\"bool\"]]\n",
    "catg_cols"
   ]
  },
  {
   "cell_type": "code",
   "execution_count": 71,
   "metadata": {},
   "outputs": [
    {
     "data": {
      "text/plain": [
       "['survived', 'pclass', 'sibsp', 'parch']"
      ]
     },
     "execution_count": 71,
     "metadata": {},
     "output_type": "execute_result"
    }
   ],
   "source": [
    "is_num_but_catg = [col for col in df.columns if df[col].nunique() < 10 and\n",
    "                   df[col].dtypes in [\"int64\", \"float64\"] ]\n",
    "is_num_but_catg"
   ]
  },
  {
   "cell_type": "code",
   "execution_count": 72,
   "metadata": {},
   "outputs": [
    {
     "data": {
      "text/plain": [
       "[]"
      ]
     },
     "execution_count": 72,
     "metadata": {},
     "output_type": "execute_result"
    }
   ],
   "source": [
    "cat_but_card = [col for col in df.columns if df[col].nunique() > 20 and\n",
    "                   df[col].dtypes in [\"category\", \"object\"]]\n",
    "cat_but_card"
   ]
  },
  {
   "cell_type": "code",
   "execution_count": 75,
   "metadata": {},
   "outputs": [
    {
     "data": {
      "text/plain": [
       "['sex',\n",
       " 'embarked',\n",
       " 'class',\n",
       " 'who',\n",
       " 'adult_male',\n",
       " 'deck',\n",
       " 'embark_town',\n",
       " 'alive',\n",
       " 'alone',\n",
       " 'survived',\n",
       " 'pclass',\n",
       " 'sibsp',\n",
       " 'parch']"
      ]
     },
     "execution_count": 75,
     "metadata": {},
     "output_type": "execute_result"
    }
   ],
   "source": [
    "catg_cols = catg_cols + is_num_but_catg\n",
    "catg_cols"
   ]
  },
  {
   "cell_type": "code",
   "execution_count": 81,
   "metadata": {},
   "outputs": [
    {
     "name": "stdout",
     "output_type": "stream",
     "text": [
      "sex: ['male' 'female']\n",
      "embarked: ['S' 'C' 'Q' nan]\n",
      "class: ['Third', 'First', 'Second']\n",
      "Categories (3, object): ['First', 'Second', 'Third']\n",
      "who: ['man' 'woman' 'child']\n",
      "adult_male: [ True False]\n",
      "deck: [NaN, 'C', 'E', 'G', 'D', 'A', 'B', 'F']\n",
      "Categories (7, object): ['A', 'B', 'C', 'D', 'E', 'F', 'G']\n",
      "embark_town: ['Southampton' 'Cherbourg' 'Queenstown' nan]\n",
      "alive: ['no' 'yes']\n",
      "alone: [False  True]\n",
      "survived: [0 1]\n",
      "pclass: [3 1 2]\n",
      "sibsp: [1 0 3 4 2 5 8]\n",
      "parch: [0 1 2 5 3 4 6]\n"
     ]
    }
   ],
   "source": [
    "#baya iyi\n",
    "for col in catg_cols:\n",
    "    print(f\"{col}: {df[col].unique()}\")"
   ]
  },
  {
   "cell_type": "code",
   "execution_count": 86,
   "metadata": {},
   "outputs": [
    {
     "name": "stdout",
     "output_type": "stream",
     "text": [
      "        sex      ratio\n",
      "sex                   \n",
      "male    577  64.758698\n",
      "female  314  35.241302\n"
     ]
    }
   ],
   "source": [
    "def catg_summary(dataframe, col_name):\n",
    "    smry = pd.DataFrame({col_name: dataframe[col_name].value_counts(),\n",
    "                         \"ratio\" : 100*dataframe[col_name].value_counts() / len(dataframe)\n",
    "    })\n",
    "    print(smry)\n",
    "\n",
    "catg_summary(df, \"sex\")"
   ]
  },
  {
   "cell_type": "code",
   "execution_count": 91,
   "metadata": {},
   "outputs": [
    {
     "name": "stdout",
     "output_type": "stream",
     "text": [
      "        sex      ratio\n",
      "sex                   \n",
      "male    577  64.758698\n",
      "female  314  35.241302\n"
     ]
    },
    {
     "data": {
      "image/png": "[encoded data removed]",
      "text/plain": [
       "<Figure size 640x480 with 1 Axes>"
      ]
     },
     "metadata": {},
     "output_type": "display_data"
    }
   ],
   "source": [
    "def catg_summary(dataframe, col_name, plot = False):\n",
    "    smry = pd.DataFrame({col_name: dataframe[col_name].value_counts(),\n",
    "                         \"ratio\" : 100*dataframe[col_name].value_counts() / len(dataframe)\n",
    "    })\n",
    "    print(smry)\n",
    "\n",
    "    if plot:\n",
    "        sns.countplot(x=dataframe[col_name], data=dataframe)\n",
    "        plt.show(block=True)\n",
    "\n",
    "\n",
    "\n",
    "catg_summary(df, \"sex\", plot=True)"
   ]
  },
  {
   "cell_type": "code",
   "execution_count": 100,
   "metadata": {},
   "outputs": [
    {
     "data": {
      "text/html": [
       "<div>\n",
       "<style scoped>\n",
       "    .dataframe tbody tr th:only-of-type {\n",
       "        vertical-align: middle;\n",
       "    }\n",
       "\n",
       "    .dataframe tbody tr th {\n",
       "        vertical-align: top;\n",
       "    }\n",
       "\n",
       "    .dataframe thead th {\n",
       "        text-align: right;\n",
       "    }\n",
       "</style>\n",
       "<table border=\"1\" class=\"dataframe\">\n",
       "  <thead>\n",
       "    <tr style=\"text-align: right;\">\n",
       "      <th></th>\n",
       "      <th>count</th>\n",
       "      <th>mean</th>\n",
       "      <th>std</th>\n",
       "      <th>min</th>\n",
       "      <th>25%</th>\n",
       "      <th>50%</th>\n",
       "      <th>75%</th>\n",
       "      <th>max</th>\n",
       "    </tr>\n",
       "  </thead>\n",
       "  <tbody>\n",
       "    <tr>\n",
       "      <th>age</th>\n",
       "      <td>714.0</td>\n",
       "      <td>29.699118</td>\n",
       "      <td>14.526497</td>\n",
       "      <td>0.42</td>\n",
       "      <td>20.1250</td>\n",
       "      <td>28.0000</td>\n",
       "      <td>38.0</td>\n",
       "      <td>80.0000</td>\n",
       "    </tr>\n",
       "    <tr>\n",
       "      <th>fare</th>\n",
       "      <td>891.0</td>\n",
       "      <td>32.204208</td>\n",
       "      <td>49.693429</td>\n",
       "      <td>0.00</td>\n",
       "      <td>7.9104</td>\n",
       "      <td>14.4542</td>\n",
       "      <td>31.0</td>\n",
       "      <td>512.3292</td>\n",
       "    </tr>\n",
       "  </tbody>\n",
       "</table>\n",
       "</div>"
      ],
      "text/plain": [
       "      count       mean        std   min      25%      50%   75%       max\n",
       "age   714.0  29.699118  14.526497  0.42  20.1250  28.0000  38.0   80.0000\n",
       "fare  891.0  32.204208  49.693429  0.00   7.9104  14.4542  31.0  512.3292"
      ]
     },
     "execution_count": 100,
     "metadata": {},
     "output_type": "execute_result"
    }
   ],
   "source": [
    "##Numerical Values\n",
    "numerics = [col for col in df.columns if \n",
    "            df[col].dtypes in [\"int64\", \"float64\"] and \n",
    "            df[col].nunique() > 10]\n",
    "\n",
    "\n",
    "df[numerics].describe().T"
   ]
  },
  {
   "cell_type": "code",
   "execution_count": 113,
   "metadata": {},
   "outputs": [
    {
     "name": "stdout",
     "output_type": "stream",
     "text": [
      "Observations: 891\n",
      "Variables: 15\n",
      "catg_cols: 11\n",
      "num_cols: 2\n",
      "catg_but_card: 0\n",
      "num_but_catg: 4\n"
     ]
    },
    {
     "data": {
      "text/plain": [
       "(['sex',\n",
       "  'embarked',\n",
       "  'who',\n",
       "  'adult_male',\n",
       "  'embark_town',\n",
       "  'alive',\n",
       "  'alone',\n",
       "  'survived',\n",
       "  'pclass',\n",
       "  'sibsp',\n",
       "  'parch'],\n",
       " ['age', 'fare'],\n",
       " [])"
      ]
     },
     "execution_count": 113,
     "metadata": {},
     "output_type": "execute_result"
    }
   ],
   "source": [
    "df = sns.load_dataset(\"titanic\")\n",
    "\n",
    "def grab_col_names(dataframe, cat_thresh=10, car_thresh=30):\n",
    "    \"\"\"\n",
    "    Veri setindeki kategorik, numerik, kategorik ama kardinal değişkenlerin isimlerini verir\n",
    "\n",
    "    Parameters\n",
    "    ----------\n",
    "    dataframe : dataframe\n",
    "        değişken isimleri alınmak istenen dataframe'dir.\n",
    "    cat_thresh : int/float, optional\n",
    "        numerik ama categorik olan değişkenler için eşik değeri, by default 10\n",
    "    car_thresh : int/float, optional\n",
    "        categorik ancak cardinal olan değişkenler için eşik değeri, by default 30\n",
    "\n",
    "    Returns\n",
    "    ----------\n",
    "    ...\n",
    "    \"\"\"\n",
    "\n",
    "\n",
    "    catg_cols = [col for col in dataframe if dataframe[col].dtypes in [\"object\", \"catagorical\", \"bool\"]]\n",
    "    \n",
    "    num_cols = [col for col in dataframe if dataframe[col].dtypes in [\"int64\", \"float64\"]\n",
    "                 and dataframe[col].nunique() >= cat_thresh]\n",
    "\n",
    "    num_but_catg = [col for col in dataframe if dataframe[col].dtypes in [\"int64\", \"float64\"]\n",
    "                 and dataframe[col].nunique() < cat_thresh]\n",
    "    \n",
    "    catg_but_card = [col for col in dataframe if \n",
    "                 dataframe[col].dtypes in [\"object\", \"catagorical\", \"bool\"]\n",
    "                 and dataframe[col].nunique() > car_thresh]\n",
    "    \n",
    "    catg_cols = catg_cols + num_but_catg\n",
    "    catg_cols = [col for col in catg_cols if col not in cat_but_card]\n",
    "\n",
    "    print(f\"Observations: {dataframe.shape[0]}\")\n",
    "    print(f\"Variables: {dataframe.shape[1]}\")\n",
    "    print(f\"catg_cols: {len(catg_cols)}\")\n",
    "    print(f\"num_cols: {len(num_cols)}\")\n",
    "    print(f\"catg_but_card: {len(catg_but_card)}\")\n",
    "    print(f\"num_but_catg: {len(num_but_catg)}\")\n",
    "\n",
    "    return catg_cols, num_cols, catg_but_card\n",
    "    \n",
    "catg_cols, num_cols, catg_but_card = grab_col_names(df)\n",
    "catg_cols, num_cols, catg_but_card\n"
   ]
  },
  {
   "cell_type": "code",
   "execution_count": 114,
   "metadata": {},
   "outputs": [
    {
     "name": "stdout",
     "output_type": "stream",
     "text": [
      "        TARGET_MEAN\n",
      "sex                \n",
      "female     0.742038\n",
      "male       0.188908\n",
      "          TARGET_MEAN\n",
      "embarked             \n",
      "C            0.553571\n",
      "Q            0.389610\n",
      "S            0.336957\n",
      "       TARGET_MEAN\n",
      "who               \n",
      "child     0.590361\n",
      "man       0.163873\n",
      "woman     0.756458\n",
      "            TARGET_MEAN\n",
      "adult_male             \n",
      "False          0.717514\n",
      "True           0.163873\n",
      "             TARGET_MEAN\n",
      "embark_town             \n",
      "Cherbourg       0.553571\n",
      "Queenstown      0.389610\n",
      "Southampton     0.336957\n",
      "       TARGET_MEAN\n",
      "alive             \n",
      "no             0.0\n",
      "yes            1.0\n",
      "       TARGET_MEAN\n",
      "alone             \n",
      "False     0.505650\n",
      "True      0.303538\n",
      "          TARGET_MEAN\n",
      "survived             \n",
      "0                 0.0\n",
      "1                 1.0\n",
      "        TARGET_MEAN\n",
      "pclass             \n",
      "1          0.629630\n",
      "2          0.472826\n",
      "3          0.242363\n",
      "       TARGET_MEAN\n",
      "sibsp             \n",
      "0         0.345395\n",
      "1         0.535885\n",
      "2         0.464286\n",
      "3         0.250000\n",
      "4         0.166667\n",
      "5         0.000000\n",
      "8         0.000000\n",
      "       TARGET_MEAN\n",
      "parch             \n",
      "0         0.343658\n",
      "1         0.550847\n",
      "2         0.500000\n",
      "3         0.600000\n",
      "4         0.000000\n",
      "5         0.200000\n",
      "6         0.000000\n"
     ]
    }
   ],
   "source": [
    "def target_summary_with_cat(dataframe, target , catg_col):\n",
    "    df = pd.DataFrame({\"TARGET_MEAN\" : dataframe.groupby(catg_col)[target].mean()})\n",
    "    print(df)\n",
    "\n",
    "for col in catg_cols:\n",
    "    target_summary_with_cat(df, \"survived\", col)"
   ]
  },
  {
   "cell_type": "code",
   "execution_count": 121,
   "metadata": {},
   "outputs": [
    {
     "name": "stdout",
     "output_type": "stream",
     "text": [
      "                age\n",
      "survived           \n",
      "0         30.626179\n",
      "1         28.343690\n",
      "\n",
      "               fare\n",
      "survived           \n",
      "0         22.117887\n",
      "1         48.395408\n",
      "\n"
     ]
    }
   ],
   "source": [
    "def target_summary_with_num(dataframe, target , num_col):\n",
    "    #print(dataframe.groupby(target)[num_col].mean())\n",
    "    print(dataframe.groupby(target).agg({num_col : \"mean\"}), end=\"\\n\\n\")\n",
    "\n",
    "for col in num_cols:\n",
    "    target_summary_with_num(df, \"survived\", col)"
   ]
  },
  {
   "cell_type": "code",
   "execution_count": 127,
   "metadata": {},
   "outputs": [
    {
     "name": "stdout",
     "output_type": "stream",
     "text": [
      "<pandas.core.groupby.generic.DataFrameGroupBy object at 0x0000016B76CD9B50>\n"
     ]
    }
   ],
   "source": [
    "import seaborn as sns\n",
    "\n",
    "df = sns.load_dataset(\"titanic\")\n",
    "\n",
    "a = df[[\"sex\", \"survived\"]].groupby(\"sex\")\n",
    "print(a)"
   ]
  }
 ],
 "metadata": {
  "kernelspec": {
   "display_name": "Python 3",
   "language": "python",
   "name": "python3"
  },
  "language_info": {
   "codemirror_mode": {
    "name": "ipython",
    "version": 3
   },
   "file_extension": ".py",
   "mimetype": "text/x-python",
   "name": "python",
   "nbconvert_exporter": "python",
   "pygments_lexer": "ipython3",
   "version": "3.11.3"
  }
 },
 "nbformat": 4,
 "nbformat_minor": 2
}

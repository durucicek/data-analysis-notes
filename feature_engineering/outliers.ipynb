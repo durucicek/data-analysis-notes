{
 "cells": [
  {
   "cell_type": "code",
   "execution_count": 43,
   "metadata": {},
   "outputs": [],
   "source": [
    "import numpy as np\n",
    "import pandas as pd\n",
    "import seaborn as sns\n",
    "from matplotlib import pyplot as plt\n",
    "from sklearn.neighbors import LocalOutlierFactor\n",
    "\n",
    "pd.set_option('display.max_columns', None)\n",
    "pd.set_option('display.max_rows', None)\n",
    "pd.set_option('display.float_format', lambda x: '%.3f' % x)\n",
    "pd.set_option('display.width', 500)"
   ]
  },
  {
   "cell_type": "code",
   "execution_count": 44,
   "metadata": {},
   "outputs": [
    {
     "data": {
      "text/html": [
       "<div>\n",
       "<style scoped>\n",
       "    .dataframe tbody tr th:only-of-type {\n",
       "        vertical-align: middle;\n",
       "    }\n",
       "\n",
       "    .dataframe tbody tr th {\n",
       "        vertical-align: top;\n",
       "    }\n",
       "\n",
       "    .dataframe thead th {\n",
       "        text-align: right;\n",
       "    }\n",
       "</style>\n",
       "<table border=\"1\" class=\"dataframe\">\n",
       "  <thead>\n",
       "    <tr style=\"text-align: right;\">\n",
       "      <th></th>\n",
       "      <th>PassengerId</th>\n",
       "      <th>Survived</th>\n",
       "      <th>Pclass</th>\n",
       "      <th>Name</th>\n",
       "      <th>Sex</th>\n",
       "      <th>Age</th>\n",
       "      <th>SibSp</th>\n",
       "      <th>Parch</th>\n",
       "      <th>Ticket</th>\n",
       "      <th>Fare</th>\n",
       "      <th>Cabin</th>\n",
       "      <th>Embarked</th>\n",
       "    </tr>\n",
       "  </thead>\n",
       "  <tbody>\n",
       "    <tr>\n",
       "      <th>0</th>\n",
       "      <td>1</td>\n",
       "      <td>0</td>\n",
       "      <td>3</td>\n",
       "      <td>Braund, Mr. Owen Harris</td>\n",
       "      <td>male</td>\n",
       "      <td>22.000</td>\n",
       "      <td>1</td>\n",
       "      <td>0</td>\n",
       "      <td>A/5 21171</td>\n",
       "      <td>7.250</td>\n",
       "      <td>NaN</td>\n",
       "      <td>S</td>\n",
       "    </tr>\n",
       "    <tr>\n",
       "      <th>1</th>\n",
       "      <td>2</td>\n",
       "      <td>1</td>\n",
       "      <td>1</td>\n",
       "      <td>Cumings, Mrs. John Bradley (Florence Briggs Th...</td>\n",
       "      <td>female</td>\n",
       "      <td>38.000</td>\n",
       "      <td>1</td>\n",
       "      <td>0</td>\n",
       "      <td>PC 17599</td>\n",
       "      <td>71.283</td>\n",
       "      <td>C85</td>\n",
       "      <td>C</td>\n",
       "    </tr>\n",
       "    <tr>\n",
       "      <th>2</th>\n",
       "      <td>3</td>\n",
       "      <td>1</td>\n",
       "      <td>3</td>\n",
       "      <td>Heikkinen, Miss. Laina</td>\n",
       "      <td>female</td>\n",
       "      <td>26.000</td>\n",
       "      <td>0</td>\n",
       "      <td>0</td>\n",
       "      <td>STON/O2. 3101282</td>\n",
       "      <td>7.925</td>\n",
       "      <td>NaN</td>\n",
       "      <td>S</td>\n",
       "    </tr>\n",
       "    <tr>\n",
       "      <th>3</th>\n",
       "      <td>4</td>\n",
       "      <td>1</td>\n",
       "      <td>1</td>\n",
       "      <td>Futrelle, Mrs. Jacques Heath (Lily May Peel)</td>\n",
       "      <td>female</td>\n",
       "      <td>35.000</td>\n",
       "      <td>1</td>\n",
       "      <td>0</td>\n",
       "      <td>113803</td>\n",
       "      <td>53.100</td>\n",
       "      <td>C123</td>\n",
       "      <td>S</td>\n",
       "    </tr>\n",
       "    <tr>\n",
       "      <th>4</th>\n",
       "      <td>5</td>\n",
       "      <td>0</td>\n",
       "      <td>3</td>\n",
       "      <td>Allen, Mr. William Henry</td>\n",
       "      <td>male</td>\n",
       "      <td>35.000</td>\n",
       "      <td>0</td>\n",
       "      <td>0</td>\n",
       "      <td>373450</td>\n",
       "      <td>8.050</td>\n",
       "      <td>NaN</td>\n",
       "      <td>S</td>\n",
       "    </tr>\n",
       "  </tbody>\n",
       "</table>\n",
       "</div>"
      ],
      "text/plain": [
       "   PassengerId  Survived  Pclass                                               Name     Sex    Age  SibSp  Parch            Ticket   Fare Cabin Embarked\n",
       "0            1         0       3                            Braund, Mr. Owen Harris    male 22.000      1      0         A/5 21171  7.250   NaN        S\n",
       "1            2         1       1  Cumings, Mrs. John Bradley (Florence Briggs Th...  female 38.000      1      0          PC 17599 71.283   C85        C\n",
       "2            3         1       3                             Heikkinen, Miss. Laina  female 26.000      0      0  STON/O2. 3101282  7.925   NaN        S\n",
       "3            4         1       1       Futrelle, Mrs. Jacques Heath (Lily May Peel)  female 35.000      1      0            113803 53.100  C123        S\n",
       "4            5         0       3                           Allen, Mr. William Henry    male 35.000      0      0            373450  8.050   NaN        S"
      ]
     },
     "execution_count": 44,
     "metadata": {},
     "output_type": "execute_result"
    }
   ],
   "source": [
    "def load():\n",
    "    data = pd.read_csv(\"datasets/titanic.csv\")\n",
    "    return data\n",
    "\n",
    "\n",
    "df = load()\n",
    "df.head()"
   ]
  },
  {
   "cell_type": "markdown",
   "metadata": {},
   "source": [
    "## 1. Outliers \n",
    "We can viualize the outliers using sns.boxplot to represent a probability distribution.\n",
    "IQR = Q3 (%25) - Q1 (%75)\n",
    "\n",
    "IQR is used to choose upper and lower bounds, any thing not in between is an outlier.\n",
    "\n",
    "Upper bound = Q3 + 1.5 * IQR \n",
    "\n",
    "Lower bound = Q1 - 1.5 * IQR\n"
   ]
  },
  {
   "cell_type": "code",
   "execution_count": 45,
   "metadata": {},
   "outputs": [
    {
     "data": {
      "image/png": "[encoded data removed]",
      "text/plain": [
       "<Figure size 640x480 with 1 Axes>"
      ]
     },
     "metadata": {},
     "output_type": "display_data"
    }
   ],
   "source": [
    "sns.boxplot(x=df[\"Age\"])\n",
    "plt.show()"
   ]
  },
  {
   "cell_type": "code",
   "execution_count": 46,
   "metadata": {},
   "outputs": [
    {
     "name": "stdout",
     "output_type": "stream",
     "text": [
      "Lower quartile: 20.125, Upper quartile: 38.0, IQR: 17.875\n",
      "Upper bound: 64.8125, Lower bound: -6.6875\n"
     ]
    }
   ],
   "source": [
    "q1 = df[\"Age\"].quantile(0.25)\n",
    "q3 = df[\"Age\"].quantile(0.75)\n",
    "iqr = q3 - q1\n",
    "\n",
    "print(f\"Lower quartile: {q1}, Upper quartile: {q3}, IQR: {iqr}\")\n",
    "\n",
    "up = q3 + 1.5 * iqr\n",
    "low = q1 - 1.5 * iqr\n",
    "\n",
    "print(f\"Upper bound: {up}, Lower bound: {low}\")\n"
   ]
  },
  {
   "cell_type": "code",
   "execution_count": 47,
   "metadata": {},
   "outputs": [
    {
     "data": {
      "text/plain": [
       "Index([33, 54, 96, 116, 280, 456, 493, 630, 672, 745, 851], dtype='int64')"
      ]
     },
     "execution_count": 47,
     "metadata": {},
     "output_type": "execute_result"
    }
   ],
   "source": [
    "df[(df[\"Age\"] < low)  |  (df[\"Age\"] > up)].index"
   ]
  },
  {
   "cell_type": "code",
   "execution_count": 48,
   "metadata": {},
   "outputs": [
    {
     "data": {
      "text/plain": [
       "(64.8125, -6.6875)"
      ]
     },
     "execution_count": 48,
     "metadata": {},
     "output_type": "execute_result"
    }
   ],
   "source": [
    "### Turn into functions ###\n",
    "\n",
    "def outlier_thresholds(dataframe, col_name, q1_val=0.25, q3_val=0.75):\n",
    "    q1 = dataframe[col_name].quantile(q1_val)\n",
    "    q3 = dataframe[col_name].quantile(q3_val)\n",
    "    iqr = q3 - q1\n",
    "    upper_limit = q3 + iqr * 1.5\n",
    "    lower_limit = q1 - iqr * 1.5\n",
    "    return upper_limit, lower_limit\n",
    "\n",
    "outlier_thresholds(df, \"Age\")\n"
   ]
  },
  {
   "cell_type": "code",
   "execution_count": 49,
   "metadata": {},
   "outputs": [
    {
     "data": {
      "text/plain": [
       "True"
      ]
     },
     "execution_count": 49,
     "metadata": {},
     "output_type": "execute_result"
    }
   ],
   "source": [
    "def check_outlier(dataframe, col_name):\n",
    "    up_limit, low_limit = outlier_thresholds(dataframe, col_name)\n",
    "    if dataframe[(dataframe[col_name] > up_limit) | \n",
    "                 (dataframe[col_name] < low_limit)].any(axis=None):\n",
    "        return True\n",
    "    else:\n",
    "        return False\n",
    "    \n",
    "check_outlier(df, \"Age\")"
   ]
  },
  {
   "cell_type": "code",
   "execution_count": 50,
   "metadata": {},
   "outputs": [],
   "source": [
    "\n",
    "def grab_col_names(dataframe, cat_th=10, car_th=20):\n",
    "    \"\"\"\n",
    "        Return catagorical, numeric, catagorical bu cardinal variable names from a dataframe.\n",
    "        Note: Catagorical includes numeric values which have less than the cat_threshold (default -> less than 10)\n",
    "\n",
    "    Parameters\n",
    "    ------\n",
    "        dataframe: dataframe\n",
    "        cat_th: int, optional\n",
    "        car_th: int, optinal\n",
    "    Returns\n",
    "    ------\n",
    "        cat_cols: list\n",
    "        num_cols: list\n",
    "        cat_but_car: list\n",
    "\n",
    "    Notes\n",
    "    ------\n",
    "        cat_cols + num_cols + cat_but_car = total var. number\n",
    "        num_but_cat is included in cat_cols\n",
    "    \"\"\"\n",
    "\n",
    "    # cat_cols, cat_but_car\n",
    "    cat_cols = [col for col in dataframe.columns if dataframe[col].dtypes == \"O\"]\n",
    "    #is a number but has less than \"cat_th\" amount of unique values (counted as catagorical)\n",
    "    num_but_cat = [col for col in dataframe.columns if dataframe[col].nunique() < cat_th and\n",
    "                   dataframe[col].dtypes != \"O\"]\n",
    "    #not numerical but has more than \"car_th\" amount of unique values (not catagorical)\n",
    "    cat_but_car = [col for col in dataframe.columns if dataframe[col].nunique() > car_th and\n",
    "                   dataframe[col].dtypes == \"O\"]\n",
    "    \n",
    "    #cat_cols = cat_cols + num_but_cat - cat_but_car\n",
    "    cat_cols = cat_cols + num_but_cat\n",
    "    cat_cols = [col for col in cat_cols if col not in cat_but_car]\n",
    "\n",
    "    # num_cols -> numerical and not in\n",
    "    num_cols = [col for col in dataframe.columns if dataframe[col].dtypes != \"O\"]\n",
    "    num_cols = [col for col in num_cols if col not in num_but_cat]\n",
    "\n",
    "    print(f\"Observations: {dataframe.shape[0]}\")\n",
    "    print(f\"Variables: {dataframe.shape[1]}\")\n",
    "    print(f'cat_cols: {len(cat_cols)}')\n",
    "    print(f'num_cols: {len(num_cols)}')\n",
    "    print(f'cat_but_car: {len(cat_but_car)}')\n",
    "    print(f'num_but_cat: {len(num_but_cat)}')\n",
    "    return cat_cols, num_cols, cat_but_car\n"
   ]
  },
  {
   "cell_type": "code",
   "execution_count": 51,
   "metadata": {},
   "outputs": [
    {
     "name": "stdout",
     "output_type": "stream",
     "text": [
      "Observations: 891\n",
      "Variables: 12\n",
      "cat_cols: 6\n",
      "num_cols: 3\n",
      "cat_but_car: 3\n",
      "num_but_cat: 4\n"
     ]
    }
   ],
   "source": [
    "cat_cols, num_cols, cat_but_car = grab_col_names(df)\n",
    "num_cols = [col for col in num_cols if col not in \"PassengerId\"] #dont include"
   ]
  },
  {
   "cell_type": "code",
   "execution_count": 52,
   "metadata": {},
   "outputs": [
    {
     "name": "stdout",
     "output_type": "stream",
     "text": [
      "Age True\n",
      "Fare True\n"
     ]
    }
   ],
   "source": [
    "for col in num_cols:\n",
    "    print(col, check_outlier(df,col))"
   ]
  },
  {
   "cell_type": "code",
   "execution_count": 53,
   "metadata": {},
   "outputs": [
    {
     "name": "stdout",
     "output_type": "stream",
     "text": [
      "     PassengerId  Survived  Pclass                            Name   Sex    Age  SibSp  Parch      Ticket   Fare Cabin Embarked\n",
      "33            34         0       2           Wheadon, Mr. Edward H  male 66.000      0      0  C.A. 24579 10.500   NaN        S\n",
      "54            55         0       1  Ostby, Mr. Engelhart Cornelius  male 65.000      0      1      113509 61.979   B30        C\n",
      "96            97         0       1       Goldschmidt, Mr. George B  male 71.000      0      0    PC 17754 34.654    A5        C\n",
      "116          117         0       3            Connors, Mr. Patrick  male 70.500      0      0      370369  7.750   NaN        Q\n",
      "280          281         0       3                Duane, Mr. Frank  male 65.000      0      0      336439  7.750   NaN        Q\n"
     ]
    },
    {
     "data": {
      "text/plain": [
       "Index([33, 54, 96, 116, 280, 456, 493, 630, 672, 745, 851], dtype='int64')"
      ]
     },
     "execution_count": 53,
     "metadata": {},
     "output_type": "execute_result"
    }
   ],
   "source": [
    "def grab_outliers(dataframe, col_name, index=False):\n",
    "    up, low = outlier_thresholds(dataframe, col_name)\n",
    "    outliers = dataframe[(dataframe[col_name] > up) | (dataframe[col_name] < low)]\n",
    "    \n",
    "    if outliers.shape[0] > 10:\n",
    "        print(outliers.head())\n",
    "    else: \n",
    "        print(outliers) \n",
    "    if index:\n",
    "        return outliers.index\n",
    "\n",
    "grab_outliers(df, \"Age\", index=True)"
   ]
  },
  {
   "cell_type": "markdown",
   "metadata": {},
   "source": [
    "### Dealing with Outliers\n",
    "1. Deleting\n",
    "2. Re-assignment with tresholds"
   ]
  },
  {
   "cell_type": "code",
   "execution_count": 54,
   "metadata": {},
   "outputs": [
    {
     "name": "stdout",
     "output_type": "stream",
     "text": [
      "Before: (891, 12), After: (775, 12)\n"
     ]
    }
   ],
   "source": [
    "up, low = outlier_thresholds(df, \"Fare\")\n",
    "deleted = df[~((df[\"Fare\"] < low) | (df[\"Fare\"] > up))]\n",
    "\n",
    "print(f\"Before: {df.shape}, After: {deleted.shape}\")"
   ]
  },
  {
   "cell_type": "code",
   "execution_count": 55,
   "metadata": {},
   "outputs": [
    {
     "name": "stdout",
     "output_type": "stream",
     "text": [
      "Observations: 891\n",
      "Variables: 12\n",
      "cat_cols: 6\n",
      "num_cols: 3\n",
      "cat_but_car: 3\n",
      "num_but_cat: 4\n",
      "Has deleted 116 columns\n"
     ]
    }
   ],
   "source": [
    "def remove_outliers(dataframe, col_name):\n",
    "    up, low = outlier_thresholds(dataframe, col_name)\n",
    "    df_wo_outliers = dataframe[~((df[col_name] < low) | (df[col_name] > up))]\n",
    "    return df_wo_outliers\n",
    "\n",
    "cat_cols, num_cols, cat_but_car = grab_col_names(df)\n",
    "num_cols = [col for col in num_cols if col not in \"PassengerId\"]\n",
    "\n",
    "for col in num_cols:\n",
    "    new_df= remove_outliers(df, col)\n",
    "\n",
    "print(f\"Has deleted {df.shape[0] - new_df.shape[0]} columns\")"
   ]
  },
  {
   "cell_type": "code",
   "execution_count": 56,
   "metadata": {},
   "outputs": [],
   "source": [
    "##Re-assignment with thresholds##\n",
    "\n",
    "def replace_with_threshold(dataframe, var):\n",
    "    up, low = outlier_thresholds(dataframe, var)\n",
    "    dataframe.loc[(dataframe[var] > up), var] = up\n",
    "    dataframe.loc[(dataframe[var] < low), var] = low"
   ]
  },
  {
   "cell_type": "code",
   "execution_count": 57,
   "metadata": {},
   "outputs": [
    {
     "data": {
      "text/plain": [
       "Series([], Name: Fare, dtype: float64)"
      ]
     },
     "execution_count": 57,
     "metadata": {},
     "output_type": "execute_result"
    }
   ],
   "source": [
    "replace_with_threshold(df, \"Fare\")\n",
    "df.loc[(df[\"Fare\"] < low) | (df[\"Fare\"] > up), \"Fare\"]\n"
   ]
  },
  {
   "cell_type": "code",
   "execution_count": 58,
   "metadata": {},
   "outputs": [
    {
     "name": "stdout",
     "output_type": "stream",
     "text": [
      "False\n"
     ]
    }
   ],
   "source": [
    "print(check_outlier(df, \"Fare\"))"
   ]
  },
  {
   "cell_type": "code",
   "execution_count": 59,
   "metadata": {},
   "outputs": [
    {
     "name": "stdout",
     "output_type": "stream",
     "text": [
      "##Outlier thresholds##\n",
      " (64.8125, -6.6875)\n",
      "##Outliers exist?##\n",
      " True\n",
      "\n",
      "##Print outliers##\n",
      "     PassengerId  Survived  Pclass                            Name   Sex    Age  SibSp  Parch      Ticket   Fare Cabin Embarked\n",
      "33            34         0       2           Wheadon, Mr. Edward H  male 66.000      0      0  C.A. 24579 10.500   NaN        S\n",
      "54            55         0       1  Ostby, Mr. Engelhart Cornelius  male 65.000      0      1      113509 61.979   B30        C\n",
      "96            97         0       1       Goldschmidt, Mr. George B  male 71.000      0      0    PC 17754 34.654    A5        C\n",
      "116          117         0       3            Connors, Mr. Patrick  male 70.500      0      0      370369  7.750   NaN        Q\n",
      "280          281         0       3                Duane, Mr. Frank  male 65.000      0      0      336439  7.750   NaN        Q\n",
      "\n",
      "##Outliers after replacement?##\n",
      " False\n"
     ]
    }
   ],
   "source": [
    "###Recap###\n",
    "df = load()\n",
    "\n",
    "up, low = outlier_thresholds(df, \"Age\")\n",
    "bool = check_outlier(df,\"Age\")\n",
    "\n",
    "print(f\"##Outlier thresholds##\\n {up,low}\")\n",
    "print(f\"##Outliers exist?##\\n {bool}\")\n",
    "print(\"\\n##Print outliers##\")\n",
    "\n",
    "grab_outliers(df, \"Age\")\n",
    "\n",
    "#remove_outliers(df,\"Age\")\n",
    "replace_with_threshold(df,\"Age\")\n",
    "bool = check_outlier(df, \"Age\")\n",
    "print(f\"\\n##Outliers after replacement?##\\n {bool}\")\n"
   ]
  },
  {
   "cell_type": "markdown",
   "metadata": {},
   "source": [
    "### LOF - Local Outlier Factor\n",
    "Used for finding anomalies of variables with respect to its neighbours.\n",
    "..."
   ]
  },
  {
   "cell_type": "code",
   "execution_count": 60,
   "metadata": {},
   "outputs": [
    {
     "data": {
      "text/html": [
       "<div>\n",
       "<style scoped>\n",
       "    .dataframe tbody tr th:only-of-type {\n",
       "        vertical-align: middle;\n",
       "    }\n",
       "\n",
       "    .dataframe tbody tr th {\n",
       "        vertical-align: top;\n",
       "    }\n",
       "\n",
       "    .dataframe thead th {\n",
       "        text-align: right;\n",
       "    }\n",
       "</style>\n",
       "<table border=\"1\" class=\"dataframe\">\n",
       "  <thead>\n",
       "    <tr style=\"text-align: right;\">\n",
       "      <th></th>\n",
       "      <th>carat</th>\n",
       "      <th>depth</th>\n",
       "      <th>table</th>\n",
       "      <th>price</th>\n",
       "      <th>x</th>\n",
       "      <th>y</th>\n",
       "      <th>z</th>\n",
       "    </tr>\n",
       "  </thead>\n",
       "  <tbody>\n",
       "    <tr>\n",
       "      <th>0</th>\n",
       "      <td>0.230</td>\n",
       "      <td>61.500</td>\n",
       "      <td>55.000</td>\n",
       "      <td>326</td>\n",
       "      <td>3.950</td>\n",
       "      <td>3.980</td>\n",
       "      <td>2.430</td>\n",
       "    </tr>\n",
       "    <tr>\n",
       "      <th>1</th>\n",
       "      <td>0.210</td>\n",
       "      <td>59.800</td>\n",
       "      <td>61.000</td>\n",
       "      <td>326</td>\n",
       "      <td>3.890</td>\n",
       "      <td>3.840</td>\n",
       "      <td>2.310</td>\n",
       "    </tr>\n",
       "    <tr>\n",
       "      <th>2</th>\n",
       "      <td>0.230</td>\n",
       "      <td>56.900</td>\n",
       "      <td>65.000</td>\n",
       "      <td>327</td>\n",
       "      <td>4.050</td>\n",
       "      <td>4.070</td>\n",
       "      <td>2.310</td>\n",
       "    </tr>\n",
       "    <tr>\n",
       "      <th>3</th>\n",
       "      <td>0.290</td>\n",
       "      <td>62.400</td>\n",
       "      <td>58.000</td>\n",
       "      <td>334</td>\n",
       "      <td>4.200</td>\n",
       "      <td>4.230</td>\n",
       "      <td>2.630</td>\n",
       "    </tr>\n",
       "    <tr>\n",
       "      <th>4</th>\n",
       "      <td>0.310</td>\n",
       "      <td>63.300</td>\n",
       "      <td>58.000</td>\n",
       "      <td>335</td>\n",
       "      <td>4.340</td>\n",
       "      <td>4.350</td>\n",
       "      <td>2.750</td>\n",
       "    </tr>\n",
       "  </tbody>\n",
       "</table>\n",
       "</div>"
      ],
      "text/plain": [
       "   carat  depth  table  price     x     y     z\n",
       "0  0.230 61.500 55.000    326 3.950 3.980 2.430\n",
       "1  0.210 59.800 61.000    326 3.890 3.840 2.310\n",
       "2  0.230 56.900 65.000    327 4.050 4.070 2.310\n",
       "3  0.290 62.400 58.000    334 4.200 4.230 2.630\n",
       "4  0.310 63.300 58.000    335 4.340 4.350 2.750"
      ]
     },
     "execution_count": 60,
     "metadata": {},
     "output_type": "execute_result"
    }
   ],
   "source": [
    "df = sns.load_dataset(\"diamonds\")\n",
    "df = df.select_dtypes(include=[\"float64\", \"int64\"])\n",
    "df = df.dropna()\n",
    "df.head()"
   ]
  },
  {
   "cell_type": "code",
   "execution_count": 61,
   "metadata": {},
   "outputs": [
    {
     "name": "stdout",
     "output_type": "stream",
     "text": [
      "carat 1889\n",
      "depth 2545\n",
      "table 605\n",
      "price 3540\n",
      "x 32\n",
      "y 29\n",
      "z 49\n"
     ]
    }
   ],
   "source": [
    "for col in df.columns:\n",
    "    up, low = outlier_thresholds(df, col)\n",
    "    print(col, df[((df[col] < low) |  (df[col] > up))].shape[0])\n",
    "    \n",
    "##some are a lot!!"
   ]
  },
  {
   "cell_type": "code",
   "execution_count": 62,
   "metadata": {},
   "outputs": [
    {
     "data": {
      "text/plain": [
       "array([-1.58352526, -1.59732899, -1.62278873, -1.33002541, -1.30712521])"
      ]
     },
     "execution_count": 62,
     "metadata": {},
     "output_type": "execute_result"
    }
   ],
   "source": [
    "clf = LocalOutlierFactor(n_neighbors=20)\n",
    "clf.fit_predict(df)\n",
    "\n",
    "df_scores = clf.negative_outlier_factor_\n",
    "df_scores[0:5] #since - , as value gets smaller gets worse"
   ]
  },
  {
   "cell_type": "code",
   "execution_count": 63,
   "metadata": {},
   "outputs": [
    {
     "data": {
      "image/png": "[encoded data removed]",
      "text/plain": [
       "<Figure size 640x480 with 1 Axes>"
      ]
     },
     "metadata": {},
     "output_type": "display_data"
    }
   ],
   "source": [
    "scores = pd.DataFrame(np.sort(df_scores))\n",
    "scores.plot(stacked=True, xlim=[0,20], style= \"x-\")\n",
    "plt.show()"
   ]
  },
  {
   "cell_type": "code",
   "execution_count": 64,
   "metadata": {},
   "outputs": [
    {
     "name": "stdout",
     "output_type": "stream",
     "text": [
      "Threshold chosen as -4.984151747711709\n"
     ]
    },
    {
     "data": {
      "text/html": [
       "<div>\n",
       "<style scoped>\n",
       "    .dataframe tbody tr th:only-of-type {\n",
       "        vertical-align: middle;\n",
       "    }\n",
       "\n",
       "    .dataframe tbody tr th {\n",
       "        vertical-align: top;\n",
       "    }\n",
       "\n",
       "    .dataframe thead th {\n",
       "        text-align: right;\n",
       "    }\n",
       "</style>\n",
       "<table border=\"1\" class=\"dataframe\">\n",
       "  <thead>\n",
       "    <tr style=\"text-align: right;\">\n",
       "      <th></th>\n",
       "      <th>carat</th>\n",
       "      <th>depth</th>\n",
       "      <th>table</th>\n",
       "      <th>price</th>\n",
       "      <th>x</th>\n",
       "      <th>y</th>\n",
       "      <th>z</th>\n",
       "    </tr>\n",
       "  </thead>\n",
       "  <tbody>\n",
       "    <tr>\n",
       "      <th>41918</th>\n",
       "      <td>1.030</td>\n",
       "      <td>78.200</td>\n",
       "      <td>54.000</td>\n",
       "      <td>1262</td>\n",
       "      <td>5.720</td>\n",
       "      <td>5.590</td>\n",
       "      <td>4.420</td>\n",
       "    </tr>\n",
       "    <tr>\n",
       "      <th>48410</th>\n",
       "      <td>0.510</td>\n",
       "      <td>61.800</td>\n",
       "      <td>54.700</td>\n",
       "      <td>1970</td>\n",
       "      <td>5.120</td>\n",
       "      <td>5.150</td>\n",
       "      <td>31.800</td>\n",
       "    </tr>\n",
       "    <tr>\n",
       "      <th>49189</th>\n",
       "      <td>0.510</td>\n",
       "      <td>61.800</td>\n",
       "      <td>55.000</td>\n",
       "      <td>2075</td>\n",
       "      <td>5.150</td>\n",
       "      <td>31.800</td>\n",
       "      <td>5.120</td>\n",
       "    </tr>\n",
       "  </tbody>\n",
       "</table>\n",
       "</div>"
      ],
      "text/plain": [
       "       carat  depth  table  price     x      y      z\n",
       "41918  1.030 78.200 54.000   1262 5.720  5.590  4.420\n",
       "48410  0.510 61.800 54.700   1970 5.120  5.150 31.800\n",
       "49189  0.510 61.800 55.000   2075 5.150 31.800  5.120"
      ]
     },
     "execution_count": 64,
     "metadata": {},
     "output_type": "execute_result"
    }
   ],
   "source": [
    "#We need to choose the threshold\n",
    "#we can go for a big slope, here around [2] and [3]\n",
    "th = np.sort(df_scores)[3]\n",
    "print(f\"Threshold chosen as {th}\")\n",
    "\n",
    "df[df_scores < th]\n",
    "\n",
    "#Why are these outliers? \n",
    "#Not necessarly because of one variable being an outlier, \n",
    "#but multiple var. in relation with each other."
   ]
  },
  {
   "cell_type": "code",
   "execution_count": null,
   "metadata": {},
   "outputs": [],
   "source": []
  }
 ],
 "metadata": {
  "kernelspec": {
   "display_name": "Python 3",
   "language": "python",
   "name": "python3"
  },
  "language_info": {
   "codemirror_mode": {
    "name": "ipython",
    "version": 3
   },
   "file_extension": ".py",
   "mimetype": "text/x-python",
   "name": "python",
   "nbconvert_exporter": "python",
   "pygments_lexer": "ipython3",
   "version": "3.11.3"
  }
 },
 "nbformat": 4,
 "nbformat_minor": 2
}
